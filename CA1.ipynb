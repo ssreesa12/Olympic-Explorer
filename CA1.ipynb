{
 "cells": [
  {
   "cell_type": "code",
   "execution_count": 2,
   "id": "bd726449-748e-43d7-af3a-b9edddf95452",
   "metadata": {},
   "outputs": [
    {
     "name": "stdout",
     "output_type": "stream",
     "text": [
      "Olympic Explorer:\n",
      "1. Add Details\n",
      "2. View Details\n",
      "3. View Medal Count\n",
      "4. Search Athlete Performance\n",
      "5. View Event Details\n",
      "6. Exit\n"
     ]
    },
    {
     "name": "stdin",
     "output_type": "stream",
     "text": [
      "Enter your choice:  2\n"
     ]
    },
    {
     "name": "stdout",
     "output_type": "stream",
     "text": [
      "Australia's Athletics performance in Last five year:\n",
      "Olympic Explorer:\n",
      "1. Add Details\n",
      "2. View Details\n",
      "3. View Medal Count\n",
      "4. Search Athlete Performance\n",
      "5. View Event Details\n",
      "6. Exit\n"
     ]
    },
    {
     "name": "stdin",
     "output_type": "stream",
     "text": [
      "Enter your choice:  6\n",
      "Are you sure you want to exit? (yes/no):  yes\n"
     ]
    },
    {
     "name": "stdout",
     "output_type": "stream",
     "text": [
      "Exiting....\n"
     ]
    }
   ],
   "source": [
    "Data=[];\n",
    "\n",
    "def Add_Detail():\n",
    "    year=input(\"enter the year: \");\n",
    "    event=input(\"enter the event: \");\n",
    "    medal=input(\"enter the medal(gold/silver/bronze): \");\n",
    "    athelete=input(\"enter the athelete name: \");\n",
    "    country=input(\"enter the country name\");\n",
    "\n",
    "    record={\n",
    "        'event':event,\n",
    "        'year':year,\n",
    "        'athelete':athelete,\n",
    "        'medal':medal,\n",
    "        'country':country\n",
    "    }\n",
    "    Data.append(record);\n",
    "    print(\"Data added Succesfully\");\n",
    "    print(\" \");\n",
    "\n",
    "def View_Detail():\n",
    "    print(\"Australia's Athletics performance in Last five year:\");\n",
    "    for record in Data:\n",
    "        print(f\"Event= {record['event']} | Year= {record['year']} | Medal= {record['medal']} | Athelete= {record['athelete']} | Country={record['country']}\");\n",
    "        print(\" \");\n",
    "\n",
    "def View_MedalCount():\n",
    "    medal_Count={};\n",
    "    for record in Data:\n",
    "        year=record['year'];\n",
    "        name=record['medal'];\n",
    "        if year not in medal_Count:\n",
    "            medal_Count[year]=0;\n",
    "        if record['medal'] in ['gold','silver','bronze']:\n",
    "            medal_Count[year]+=1;\n",
    "    for year,count in medal_Count.items():\n",
    "        print(f\"Year:{year}\\n Medal:{count} \");\n",
    "        print(\" \");\n",
    "\n",
    "def Search_Athelete():\n",
    "    name = input(\"enter the name of the athelete: \");\n",
    "    count=0;\n",
    "    for record in Data:\n",
    "      if record['athelete']==name:\n",
    "           if record['medal'] in ['gold','silver','bronze']:\n",
    "                count+=1;\n",
    "    print(f\"Athelete Name:{name}\\n Medals:{count}\");\n",
    "    print(\" \");\n",
    "\n",
    "\n",
    "def view_EventDetail():\n",
    "    name=input(\"Enter the event name: \")\n",
    "    print(f\"| {'EVENT':<20} | {'YEAR':<6} | {'ATHLETE':<20} | {'MEDAL':<6} |\") \n",
    "    print(\"-\" * 57)\n",
    "    for record in Data:\n",
    "        if record['event']==name:\n",
    "            print(f\"| {record['event']:<20} | {record['year']:<6} | {record['athelete']:<20} | {record['medal']:<6} |\") \n",
    "            print(\" \")\n",
    "\n",
    "def Exit():\n",
    "    confirmation = input(\"Are you sure you want to exit? (yes/no): \")\n",
    "    \n",
    "    if confirmation == 'yes':\n",
    "        print(\"Exiting....\")\n",
    "        return True\n",
    "    else:\n",
    "        print(\"Exit canceled. Returning to the menu.\")\n",
    "        return False\n",
    "    \n",
    "    \n",
    "\n",
    "    \n",
    "def main():\n",
    "    \n",
    "    while True:\n",
    "        print(\"Olympic Explorer:\")\n",
    "        print(\"1. Add Details\")\n",
    "        print(\"2. View Details\")\n",
    "        print(\"3. View Medal Count\")\n",
    "        print(\"4. Search Athlete Performance\")\n",
    "        print(\"5. View Event Details\")\n",
    "        print(\"6. Exit\")\n",
    "        \n",
    "        choice = int(input(\"Enter your choice: \"))\n",
    "        \n",
    "        match choice:\n",
    "            case 1:\n",
    "                 Add_Detail()\n",
    "            case 2:\n",
    "               View_Detail()\n",
    "            case 3:\n",
    "                View_MedalCount()\n",
    "            case 4:\n",
    "                Search_Athelete()\n",
    "            case 5:\n",
    "               view_EventDetail()\n",
    "           \n",
    "            case 6:\n",
    "                if Exit():\n",
    "                    break\n",
    "                    \n",
    "            case _:\n",
    "                \n",
    "                print(\"Invalid choice. Please try again.\")\n",
    "\n",
    "\n",
    "main()\n",
    "\n",
    "\n",
    "    "
   ]
  },
  {
   "cell_type": "code",
   "execution_count": null,
   "id": "d01642ae-be57-4bd6-8f30-1408fb6df71b",
   "metadata": {},
   "outputs": [],
   "source": []
  },
  {
   "cell_type": "code",
   "execution_count": null,
   "id": "1b441658-b80b-4cc5-bf35-5a987b4767d8",
   "metadata": {},
   "outputs": [],
   "source": []
  }
 ],
 "metadata": {
  "kernelspec": {
   "display_name": "Python 3 (ipykernel)",
   "language": "python",
   "name": "python3"
  },
  "language_info": {
   "codemirror_mode": {
    "name": "ipython",
    "version": 3
   },
   "file_extension": ".py",
   "mimetype": "text/x-python",
   "name": "python",
   "nbconvert_exporter": "python",
   "pygments_lexer": "ipython3",
   "version": "3.12.1"
  }
 },
 "nbformat": 4,
 "nbformat_minor": 5
}
